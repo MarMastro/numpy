{
  "nbformat": 4,
  "nbformat_minor": 0,
  "metadata": {
    "colab": {
      "provenance": [],
      "authorship_tag": "ABX9TyPaimaE8obxLB8t0HXV+Jnf",
      "include_colab_link": true
    },
    "kernelspec": {
      "name": "python3",
      "display_name": "Python 3"
    },
    "language_info": {
      "name": "python"
    }
  },
  "cells": [
    {
      "cell_type": "markdown",
      "metadata": {
        "id": "view-in-github",
        "colab_type": "text"
      },
      "source": [
        "<a href=\"https://colab.research.google.com/github/MarMastro/numpy/blob/master/ejemplos.ipynb\" target=\"_parent\"><img src=\"https://colab.research.google.com/assets/colab-badge.svg\" alt=\"Open In Colab\"/></a>"
      ]
    },
    {
      "cell_type": "code",
      "source": [
        "import numpy as np"
      ],
      "metadata": {
        "id": "0ICfNaG1cOOY"
      },
      "execution_count": null,
      "outputs": []
    },
    {
      "cell_type": "markdown",
      "source": [
        "# Copia de arrays"
      ],
      "metadata": {
        "id": "V0ASkw-TdE1J"
      }
    },
    {
      "cell_type": "code",
      "source": [],
      "metadata": {
        "id": "GuuwtOzfdD6j"
      },
      "execution_count": null,
      "outputs": []
    },
    {
      "cell_type": "code",
      "execution_count": null,
      "metadata": {
        "id": "_FehMnGrbfm3"
      },
      "outputs": [],
      "source": [
        "precio_inmuebles = np.array([10000, 120000, 11000, 200000])"
      ]
    },
    {
      "cell_type": "code",
      "source": [
        "# Copiamos el array\n",
        "precio_inmuebles_lima = precio_inmuebles"
      ],
      "metadata": {
        "id": "qCnbUJkob8zI"
      },
      "execution_count": null,
      "outputs": []
    },
    {
      "cell_type": "code",
      "source": [
        "# Cambiamos el precio de una propiedad en el array original\n",
        "precio_inmuebles[0] = 120000"
      ],
      "metadata": {
        "id": "G37whfXucXiq"
      },
      "execution_count": null,
      "outputs": []
    },
    {
      "cell_type": "code",
      "source": [
        "precio_inmuebles\n"
      ],
      "metadata": {
        "colab": {
          "base_uri": "https://localhost:8080/"
        },
        "id": "3npO9ozRcvRN",
        "outputId": "649b4f6d-ffe8-43df-f0d7-6d463ee9c255"
      },
      "execution_count": null,
      "outputs": [
        {
          "output_type": "execute_result",
          "data": {
            "text/plain": [
              "array([120000, 120000,  11000, 200000])"
            ]
          },
          "metadata": {},
          "execution_count": 7
        }
      ]
    },
    {
      "cell_type": "code",
      "source": [
        "# Al cambiar el array original tambien cambio la copia\n",
        "precio_inmuebles_lima"
      ],
      "metadata": {
        "colab": {
          "base_uri": "https://localhost:8080/"
        },
        "id": "FJ__OmEOc2dW",
        "outputId": "1da82fe0-c9e1-4228-ad3c-8ddfc72d4e13"
      },
      "execution_count": null,
      "outputs": [
        {
          "output_type": "execute_result",
          "data": {
            "text/plain": [
              "array([120000, 120000,  11000, 200000])"
            ]
          },
          "metadata": {},
          "execution_count": 8
        }
      ]
    },
    {
      "cell_type": "code",
      "source": [
        "# Para crear una copia independiente del original. np.copy()\n",
        "precio_inmuebles_lima = np.copy(precio_inmuebles)"
      ],
      "metadata": {
        "id": "_7hScr1ic74b"
      },
      "execution_count": null,
      "outputs": []
    },
    {
      "cell_type": "markdown",
      "source": [
        "# Generar un circulo\n"
      ],
      "metadata": {
        "id": "suqnrx4IKLiO"
      }
    },
    {
      "cell_type": "code",
      "source": [
        "import numpy as np\n",
        "import matplotlib.pyplot as plt"
      ],
      "metadata": {
        "id": "YdYKmvZWdXH_"
      },
      "execution_count": 3,
      "outputs": []
    },
    {
      "cell_type": "code",
      "source": [
        "# Generar una secuencia de valores de x de -1 a 1\n",
        "x = np.arange(-1, 1, 0.0001)"
      ],
      "metadata": {
        "id": "PCV0y8nUKTei"
      },
      "execution_count": 5,
      "outputs": []
    },
    {
      "cell_type": "code",
      "source": [
        "# Implementacion de la formula\n",
        "y1 = np.sqrt(1 - x**2)\n",
        "y2 = -np.sqrt(1 - x**2)"
      ],
      "metadata": {
        "id": "s-XnApD-KzXX"
      },
      "execution_count": 6,
      "outputs": []
    },
    {
      "cell_type": "code",
      "source": [
        "# Agregar el titulo del grafico y las etiquetas de los ejes.\n",
        "plt.title('Circulo')\n",
        "plt.xlabel('Eje x')\n",
        "plt.ylabel('Eje y')\n",
        "# Grafica de las dos partes del circulo\n",
        "plt.plot(x, y1, 'r')\n",
        "plt.plot(x, y2, 'r')\n",
        "# Mostrar el grafico\n",
        "plt.show()"
      ],
      "metadata": {
        "colab": {
          "base_uri": "https://localhost:8080/",
          "height": 472
        },
        "id": "PyOADutDMftC",
        "outputId": "bbb2d52e-fe83-4d13-957e-7506f382a5dd"
      },
      "execution_count": 12,
      "outputs": [
        {
          "output_type": "display_data",
          "data": {
            "text/plain": [
              "<Figure size 640x480 with 1 Axes>"
            ],
            "image/png": "[encoded data removed]"
          },
          "metadata": {}
        }
      ]
    },
    {
      "cell_type": "code",
      "source": [],
      "metadata": {
        "id": "dKmJTGRhNb-3"
      },
      "execution_count": null,
      "outputs": []
    }
  ]
}