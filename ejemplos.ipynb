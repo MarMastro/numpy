{
  "nbformat": 4,
  "nbformat_minor": 0,
  "metadata": {
    "colab": {
      "provenance": [],
      "authorship_tag": "ABX9TyPrnpNWpVq9tdVvB/LDdRo2",
      "include_colab_link": true
    },
    "kernelspec": {
      "name": "python3",
      "display_name": "Python 3"
    },
    "language_info": {
      "name": "python"
    }
  },
  "cells": [
    {
      "cell_type": "markdown",
      "metadata": {
        "id": "view-in-github",
        "colab_type": "text"
      },
      "source": [
        "<a href=\"https://colab.research.google.com/github/MarMastro/numpy/blob/master/ejemplos.ipynb\" target=\"_parent\"><img src=\"https://colab.research.google.com/assets/colab-badge.svg\" alt=\"Open In Colab\"/></a>"
      ]
    },
    {
      "cell_type": "code",
      "source": [
        "import numpy as np"
      ],
      "metadata": {
        "id": "0ICfNaG1cOOY"
      },
      "execution_count": 2,
      "outputs": []
    },
    {
      "cell_type": "markdown",
      "source": [
        "# Copia de arrays"
      ],
      "metadata": {
        "id": "V0ASkw-TdE1J"
      }
    },
    {
      "cell_type": "code",
      "source": [],
      "metadata": {
        "id": "GuuwtOzfdD6j"
      },
      "execution_count": null,
      "outputs": []
    },
    {
      "cell_type": "code",
      "execution_count": 3,
      "metadata": {
        "id": "_FehMnGrbfm3"
      },
      "outputs": [],
      "source": [
        "precio_inmuebles = np.array([10000, 120000, 11000, 200000])"
      ]
    },
    {
      "cell_type": "code",
      "source": [
        "# Copiamos el array\n",
        "precio_inmuebles_lima = precio_inmuebles"
      ],
      "metadata": {
        "id": "qCnbUJkob8zI"
      },
      "execution_count": 4,
      "outputs": []
    },
    {
      "cell_type": "code",
      "source": [
        "# Cambiamos el precio de una propiedad en el array original\n",
        "precio_inmuebles[0] = 120000"
      ],
      "metadata": {
        "id": "G37whfXucXiq"
      },
      "execution_count": 6,
      "outputs": []
    },
    {
      "cell_type": "code",
      "source": [
        "precio_inmuebles\n"
      ],
      "metadata": {
        "colab": {
          "base_uri": "https://localhost:8080/"
        },
        "id": "3npO9ozRcvRN",
        "outputId": "649b4f6d-ffe8-43df-f0d7-6d463ee9c255"
      },
      "execution_count": 7,
      "outputs": [
        {
          "output_type": "execute_result",
          "data": {
            "text/plain": [
              "array([120000, 120000,  11000, 200000])"
            ]
          },
          "metadata": {},
          "execution_count": 7
        }
      ]
    },
    {
      "cell_type": "code",
      "source": [
        "# Al cambiar el array original tambien cambio la copia\n",
        "precio_inmuebles_lima"
      ],
      "metadata": {
        "colab": {
          "base_uri": "https://localhost:8080/"
        },
        "id": "FJ__OmEOc2dW",
        "outputId": "1da82fe0-c9e1-4228-ad3c-8ddfc72d4e13"
      },
      "execution_count": 8,
      "outputs": [
        {
          "output_type": "execute_result",
          "data": {
            "text/plain": [
              "array([120000, 120000,  11000, 200000])"
            ]
          },
          "metadata": {},
          "execution_count": 8
        }
      ]
    },
    {
      "cell_type": "code",
      "source": [
        "# Para crear una copia independiente del original. np.copy()\n",
        "precio_inmuebles_lima = np.copy(precio_inmuebles)"
      ],
      "metadata": {
        "id": "_7hScr1ic74b"
      },
      "execution_count": 9,
      "outputs": []
    },
    {
      "cell_type": "code",
      "source": [],
      "metadata": {
        "id": "YdYKmvZWdXH_"
      },
      "execution_count": null,
      "outputs": []
    }
  ]
}